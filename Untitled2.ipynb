{
 "cells": [
  {
   "cell_type": "code",
   "execution_count": 1,
   "metadata": {},
   "outputs": [
    {
     "name": "stdout",
     "output_type": "stream",
     "text": [
      "Enter your GMail username:rahul@ritzylab.com\n",
      "Enter your password: ········\n",
      "Not able to download all attachments.\n"
     ]
    }
   ],
   "source": [
    "# Something in lines of http://stackoverflow.com/questions/348630/how-can-i-download-all-emails-with-attachments-from-gmail\n",
    "# Make sure you have IMAP enabled in your gmail settings.\n",
    "# Right now it won't download same file name twice even if their contents are different.\n",
    "\n",
    "import email\n",
    "import getpass, imaplib\n",
    "import os\n",
    "import sys\n",
    "\n",
    "detach_dir = '.'\n",
    "if 'attachments' not in os.listdir(detach_dir):\n",
    "    os.mkdir('attachments')\n",
    "\n",
    "userName = input(r'Enter your GMail username:')\n",
    "passwd = getpass.getpass('Enter your password: ')\n",
    "\n",
    "try:\n",
    "    imapSession = imaplib.IMAP4_SSL('imap.gmail.com')\n",
    "    typ, accountDetails = imapSession.login(userName, passwd)\n",
    "    if typ != 'OK':\n",
    "        print ('Not able to sign in!')\n",
    "        raise\n",
    "    \n",
    "    imapSession.select('[Gmail]/All Mail')\n",
    "    typ, data = imapSession.search(None, 'ALL')\n",
    "    if typ != 'OK':\n",
    "        print ('Error searching Inbox.')\n",
    "        raise\n",
    "    \n",
    "    # Iterating over all emails\n",
    "    for msgId in data[0].split():\n",
    "        typ, messageParts = imapSession.fetch(msgId, '(RFC822)')\n",
    "        if typ != 'OK':\n",
    "            print ('Error fetching mail.')\n",
    "            raise\n",
    "\n",
    "        emailBody = messageParts[0][1]\n",
    "        mail = email.message_from_string(emailBody)\n",
    "        for part in mail.walk():\n",
    "            if part.get_content_maintype() == 'multipart':\n",
    "                # print part.as_string()\n",
    "                continue\n",
    "            if part.get('Content-Disposition') is None:\n",
    "                # print part.as_string()\n",
    "                continue\n",
    "            fileName = part.get_filename()\n",
    "\n",
    "            if bool(fileName):\n",
    "                filePath = os.path.join(detach_dir, 'attachments', fileName)\n",
    "                if not os.path.isfile(filePath) :\n",
    "                    print (fileName)\n",
    "                    fp = open(filePath, 'wb')\n",
    "                    fp.write(part.get_payload(decode=True))\n",
    "                    fp.close()\n",
    "    imapSession.close()\n",
    "    imapSession.logout()\n",
    "except :\n",
    "    print ('Not able to download all attachments.')"
   ]
  },
  {
   "cell_type": "code",
   "execution_count": null,
   "metadata": {},
   "outputs": [],
   "source": []
  }
 ],
 "metadata": {
  "kernelspec": {
   "display_name": "Python 3",
   "language": "python",
   "name": "python3"
  },
  "language_info": {
   "codemirror_mode": {
    "name": "ipython",
    "version": 3
   },
   "file_extension": ".py",
   "mimetype": "text/x-python",
   "name": "python",
   "nbconvert_exporter": "python",
   "pygments_lexer": "ipython3",
   "version": "3.7.3"
  }
 },
 "nbformat": 4,
 "nbformat_minor": 2
}
