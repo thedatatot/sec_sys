{
 "cells": [
  {
   "cell_type": "code",
   "execution_count": 5,
   "metadata": {
    "scrolled": true
   },
   "outputs": [],
   "source": [
    "import numpy as np\n",
    "\n",
    "array = np.random.rand(10,10)\n",
    "a = np.diag(np.diag(array))\n",
    "\n",
    "# print(\"Diagnoal Values : \\n\", res); "
   ]
  },
  {
   "cell_type": "code",
   "execution_count": 11,
   "metadata": {},
   "outputs": [
    {
     "name": "stdout",
     "output_type": "stream",
     "text": [
      "Diagnoal Values : \n",
      " [[0.53448368 0.50371136 0.60703122 0.34732721]\n",
      " [0.         0.90184324 0.53584118 0.97612134]\n",
      " [0.         0.         0.22363835 0.84056478]\n",
      " [0.         0.         0.         0.32040381]]\n"
     ]
    }
   ],
   "source": [
    "import numpy as np\n",
    "\n",
    "array = np.random.rand(4,4)\n",
    "\n",
    "a = np.triu(array)\n",
    "\n",
    "print(\"Diagnoal Values : \\n\", a); "
   ]
  },
  {
   "cell_type": "code",
   "execution_count": 12,
   "metadata": {},
   "outputs": [
    {
     "name": "stdout",
     "output_type": "stream",
     "text": [
      "Diagnoal Values : \n",
      " [[0.86468465 0.         0.         0.        ]\n",
      " [0.29106757 0.6445199  0.         0.        ]\n",
      " [0.61094288 0.5732106  0.24009884 0.        ]\n",
      " [0.64829315 0.97093717 0.27689521 0.82022324]]\n"
     ]
    }
   ],
   "source": [
    "import numpy as np\n",
    "\n",
    "array = np.random.rand(4,4)\n",
    "\n",
    "a = np.tril(array)\n",
    "\n",
    "print(\"Diagnoal Values : \\n\", a); "
   ]
  },
  {
   "cell_type": "code",
   "execution_count": 2,
   "metadata": {},
   "outputs": [
    {
     "name": "stdout",
     "output_type": "stream",
     "text": [
      "[[0.78749057 0.26161208 0.51857434 0.49423101 0.94729995 0.49842998\n",
      "  0.27944598 0.58755052 0.62562404 0.61185348]\n",
      " [0.96590388 0.35868152 0.51520262 0.92896173 0.63882869 0.59511713\n",
      "  0.61962184 0.96011094 0.80239021 0.87967102]\n",
      " [0.17972021 0.17754939 0.65453829 0.42986646 0.25298403 0.04948958\n",
      "  0.16844732 0.43541798 0.77158635 0.85024485]\n",
      " [0.84140096 0.09372738 0.79360639 0.02195273 0.662587   0.95170456\n",
      "  0.3188313  0.90640298 0.08017904 0.70078547]\n",
      " [0.19707372 0.11359393 0.18836047 0.88894297 0.28749181 0.13756529\n",
      "  0.26367979 0.30225242 0.85819919 0.67677727]\n",
      " [0.12051608 0.43937538 0.62394179 0.64699517 0.10532414 0.27691362\n",
      "  0.39781063 0.23310448 0.05655048 0.80249091]\n",
      " [0.39776917 0.54873545 0.60356552 0.36364168 0.6383604  0.42756799\n",
      "  0.6141766  0.50668687 0.8832894  0.61333433]\n",
      " [0.08697873 0.08813012 0.33970555 0.25992457 0.38008152 0.08363596\n",
      "  0.50387431 0.72841214 0.5393442  0.59703689]\n",
      " [0.23157212 0.60577465 0.73430746 0.38715579 0.80032089 0.53543106\n",
      "  0.32924641 0.41761004 0.23508358 0.62151228]\n",
      " [0.08510903 0.66070118 0.2420138  0.91936336 0.71149618 0.12752902\n",
      "  0.39117447 0.75042825 0.04893007 0.42122801]]\n"
     ]
    }
   ],
   "source": [
    "import numpy as np\n",
    "arr = np.random.rand(10,10)\n",
    "print(arr)"
   ]
  },
  {
   "cell_type": "code",
   "execution_count": 6,
   "metadata": {},
   "outputs": [
    {
     "name": "stdout",
     "output_type": "stream",
     "text": [
      "[[1 0 0]\n",
      " [0 2 0]\n",
      " [0 0 3]]\n"
     ]
    }
   ],
   "source": [
    "print(np.diag([1,2,3]))"
   ]
  },
  {
   "cell_type": "code",
   "execution_count": 11,
   "metadata": {},
   "outputs": [
    {
     "name": "stdout",
     "output_type": "stream",
     "text": [
      "[0.78749057 0.35868152 0.65453829 0.02195273 0.28749181 0.27691362\n",
      " 0.6141766  0.72841214 0.23508358 0.42122801]\n"
     ]
    }
   ],
   "source": [
    "print(np.diag(arr))"
   ]
  },
  {
   "cell_type": "code",
   "execution_count": 13,
   "metadata": {},
   "outputs": [
    {
     "name": "stdout",
     "output_type": "stream",
     "text": [
      "[[0.78749057 0.         0.         0.         0.         0.\n",
      "  0.         0.         0.         0.        ]\n",
      " [0.         0.35868152 0.         0.         0.         0.\n",
      "  0.         0.         0.         0.        ]\n",
      " [0.         0.         0.65453829 0.         0.         0.\n",
      "  0.         0.         0.         0.        ]\n",
      " [0.         0.         0.         0.02195273 0.         0.\n",
      "  0.         0.         0.         0.        ]\n",
      " [0.         0.         0.         0.         0.28749181 0.\n",
      "  0.         0.         0.         0.        ]\n",
      " [0.         0.         0.         0.         0.         0.27691362\n",
      "  0.         0.         0.         0.        ]\n",
      " [0.         0.         0.         0.         0.         0.\n",
      "  0.6141766  0.         0.         0.        ]\n",
      " [0.         0.         0.         0.         0.         0.\n",
      "  0.         0.72841214 0.         0.        ]\n",
      " [0.         0.         0.         0.         0.         0.\n",
      "  0.         0.         0.23508358 0.        ]\n",
      " [0.         0.         0.         0.         0.         0.\n",
      "  0.         0.         0.         0.42122801]]\n"
     ]
    }
   ],
   "source": [
    "print(np.diag([0.78749057,0.35868152,0.65453829 ,0.02195273, 0.28749181, 0.27691362,\n",
    " 0.6141766 , 0.72841214 ,0.23508358 ,0.42122801]))"
   ]
  },
  {
   "cell_type": "code",
   "execution_count": 17,
   "metadata": {},
   "outputs": [
    {
     "name": "stdout",
     "output_type": "stream",
     "text": [
      "True\n"
     ]
    }
   ],
   "source": [
    "a = [1,2,3]\n",
    "b = [1,2,3]\n",
    "print(np.array_equal(a,b))"
   ]
  },
  {
   "cell_type": "code",
   "execution_count": null,
   "metadata": {},
   "outputs": [],
   "source": []
  }
 ],
 "metadata": {
  "kernelspec": {
   "display_name": "Python 3",
   "language": "python",
   "name": "python3"
  },
  "language_info": {
   "codemirror_mode": {
    "name": "ipython",
    "version": 3
   },
   "file_extension": ".py",
   "mimetype": "text/x-python",
   "name": "python",
   "nbconvert_exporter": "python",
   "pygments_lexer": "ipython3",
   "version": "3.7.3"
  }
 },
 "nbformat": 4,
 "nbformat_minor": 2
}
