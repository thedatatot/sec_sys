{
 "cells": [
  {
   "cell_type": "code",
   "execution_count": 3,
   "metadata": {},
   "outputs": [
    {
     "name": "stdout",
     "output_type": "stream",
     "text": [
      "1.17.3\n"
     ]
    }
   ],
   "source": [
    "# Write a Python program to print the NumPy version in your system.\n",
    "\n",
    "import numpy as np\n",
    "print(np.__version__)"
   ]
  },
  {
   "cell_type": "code",
   "execution_count": 6,
   "metadata": {},
   "outputs": [
    {
     "name": "stdout",
     "output_type": "stream",
     "text": [
      "[9 8 7 6 5 4 3 2 1 0]\n"
     ]
    }
   ],
   "source": [
    "# Write a Python program to reverse an array (first element becomes last).\n",
    "\n",
    "arr = np.arange(10)\n",
    "print(arr[::-1])"
   ]
  },
  {
   "cell_type": "code",
   "execution_count": 11,
   "metadata": {},
   "outputs": [
    {
     "name": "stdout",
     "output_type": "stream",
     "text": [
      "[3 4 5]\n",
      "['Rahul' 'Kumar' '1' '2']\n"
     ]
    }
   ],
   "source": [
    "# Write a Python program to convert a list and tuple into arrays\n",
    "\n",
    "lst = np.array([3,4,5])\n",
    "tp = ('Rahul', 'Kumar', 1,2)\n",
    "tp2 = np.asarray(tp)\n",
    "print(lst)\n",
    "print(tp2)"
   ]
  },
  {
   "cell_type": "code",
   "execution_count": 1,
   "metadata": {},
   "outputs": [
    {
     "name": "stdout",
     "output_type": "stream",
     "text": [
      "[2 3 4 5]\n"
     ]
    }
   ],
   "source": [
    "# Write a program to find common values between two arrays\n",
    "\n",
    "import numpy as np\n",
    "arr1 = [1,2,3,4,5]\n",
    "arr2 = [2,3,4,5,6,7,8]\n",
    "print(np.intersect1d(arr1,arr2))"
   ]
  },
  {
   "cell_type": "code",
   "execution_count": 6,
   "metadata": {},
   "outputs": [
    {
     "name": "stdout",
     "output_type": "stream",
     "text": [
      "True\n",
      "[0 1 2 3 4] [0 1 2 3 4]\n"
     ]
    },
    {
     "data": {
      "text/plain": [
       "True"
      ]
     },
     "execution_count": 6,
     "metadata": {},
     "output_type": "execute_result"
    }
   ],
   "source": [
    "# Write a Python program compare two arrays using numpy.\n",
    "import numpy as np\n",
    "\n",
    "print(np.array_equal([1,2],[1,2]))\n",
    "\n",
    "arr1 = np.arange(5)\n",
    "arr2 = np.arange(5)\n",
    "\n",
    "print(arr1, arr2)\n",
    "\n",
    "np.array_equal(arr1, arr2)"
   ]
  },
  {
   "cell_type": "code",
   "execution_count": 15,
   "metadata": {},
   "outputs": [
    {
     "name": "stdout",
     "output_type": "stream",
     "text": [
      "[0 1 2 3 4 5 6 7 8 9]\n"
     ]
    },
    {
     "data": {
      "text/plain": [
       "array([[0, 1, 2, 3, 4, 5, 6, 7]])"
      ]
     },
     "execution_count": 15,
     "metadata": {},
     "output_type": "execute_result"
    }
   ],
   "source": [
    "# Write a Python program to change the dimension of an array.\n",
    "\n",
    "arr3 = np.arange(10)\n",
    "print(arr3)\n",
    "np.resize(arr3,(1,8))"
   ]
  },
  {
   "cell_type": "code",
   "execution_count": 2,
   "metadata": {},
   "outputs": [
    {
     "name": "stdout",
     "output_type": "stream",
     "text": [
      "2318\n"
     ]
    }
   ],
   "source": [
    "# Write a Python program (using numpy) to sum of all the multiples of 3 or 5 below 100.\n",
    "\n",
    "import numpy as np\n",
    "x = np.arange(1,100)\n",
    "num = x[(x % 3 == 0)| (x % 5 == 0)]\n",
    "print(num.sum())"
   ]
  },
  {
   "cell_type": "code",
   "execution_count": 3,
   "metadata": {},
   "outputs": [
    {
     "name": "stdout",
     "output_type": "stream",
     "text": [
      "[[0, 1], [2, 3], [4, 5]]\n"
     ]
    }
   ],
   "source": [
    "# Write a Python program to convert a NumPy array into Python list structure.\n",
    "\n",
    "import numpy as np\n",
    "x = np.arange(6).reshape(3,2)\n",
    "print(x.tolist())"
   ]
  },
  {
   "cell_type": "code",
   "execution_count": 5,
   "metadata": {},
   "outputs": [
    {
     "name": "stdout",
     "output_type": "stream",
     "text": [
      "[1 2 3 4 5 6]\n"
     ]
    }
   ],
   "source": [
    "# Write a Python program to how to add an extra column to a numpy array.\n",
    "\n",
    "import numpy as np\n",
    "x = np.array([1,2,3,4])\n",
    "y = np.array([5,6])\n",
    "print(np.append(x,y,axis = 0))"
   ]
  },
  {
   "cell_type": "code",
   "execution_count": 7,
   "metadata": {},
   "outputs": [
    {
     "name": "stdout",
     "output_type": "stream",
     "text": [
      "0\n"
     ]
    }
   ],
   "source": [
    "# Write a Python program to check whether the numpy array is empty or not.\n",
    "\n",
    "import numpy as np\n",
    "arr = np.array([])\n",
    "print(arr.size)"
   ]
  },
  {
   "cell_type": "code",
   "execution_count": null,
   "metadata": {},
   "outputs": [],
   "source": [
    "# Write a Python program to normalize a 3x3 random matrix.\n",
    "\n"
   ]
  },
  {
   "cell_type": "code",
   "execution_count": null,
   "metadata": {},
   "outputs": [],
   "source": [
    "# How to ignore all numpy warnings (not recommended)?\n",
    "\n",
    "# numpy.testing.suppress_warnings"
   ]
  },
  {
   "cell_type": "code",
   "execution_count": 13,
   "metadata": {},
   "outputs": [
    {
     "name": "stdout",
     "output_type": "stream",
     "text": [
      "[[11 22 33 44]\n",
      " [ 5  6  7  8]\n",
      " [ 1  2  3  4]\n",
      " [55 66 77 88]]\n"
     ]
    }
   ],
   "source": [
    "# How to swap two rows of an array?\n",
    "\n",
    "arr1 = np.array([[1,2,3,4],[5,6,7,8],[11,22,33,44],[55,66,77,88]])\n",
    "arr1[[0,2]] = arr1[[2,0]]\n",
    "print(arr1)"
   ]
  },
  {
   "cell_type": "code",
   "execution_count": 30,
   "metadata": {},
   "outputs": [],
   "source": [
    "# Compute bootstrapped 95% confidence intervals for the mean of a 1D array X (i.e., resample the elements of an array with replacement N times, compute the mean of each sample, and then compute percentiles over the means).\n",
    "\n"
   ]
  },
  {
   "cell_type": "code",
   "execution_count": 29,
   "metadata": {},
   "outputs": [
    {
     "name": "stdout",
     "output_type": "stream",
     "text": [
      "[0.11226502 0.13833848 0.15980775 0.17708557 0.1993508  0.28771018\n",
      " 0.54863104 0.58609    0.6200923  0.87342445]\n"
     ]
    }
   ],
   "source": [
    "# Python program to create a random vector of size 10 and sort it.\n",
    "\n",
    "import numpy as np\n",
    "arr = np.random.rand(10)\n",
    "arr.sort()\n",
    "print(arr)"
   ]
  },
  {
   "cell_type": "code",
   "execution_count": 32,
   "metadata": {},
   "outputs": [
    {
     "name": "stdout",
     "output_type": "stream",
     "text": [
      "[0 0 0 1 0 0] [1 0 1 0 0 1]\n",
      "False\n"
     ]
    }
   ],
   "source": [
    "# Write a Python program to check two random arrays are equal or not.\n",
    "\n",
    "a = np.random.randint(0,2,6)\n",
    "b = np.random.randint(0,2,6)\n",
    "print(a,b)\n",
    "result = np.allclose(a,b)\n",
    "print(result)"
   ]
  },
  {
   "cell_type": "code",
   "execution_count": 33,
   "metadata": {},
   "outputs": [
    {
     "name": "stdout",
     "output_type": "stream",
     "text": [
      "30\n",
      "-10\n",
      "200\n",
      "0.5\n"
     ]
    }
   ],
   "source": [
    "# Write a Python program to add, subtract, multiply, divide arguments element-wise.\n",
    "\n",
    "print(np.add(10,20))\n",
    "print(np.subtract(10,20))\n",
    "print(np.multiply(10,20))\n",
    "print(np.divide(10,20))"
   ]
  },
  {
   "cell_type": "code",
   "execution_count": 20,
   "metadata": {},
   "outputs": [
    {
     "name": "stdout",
     "output_type": "stream",
     "text": [
      "2020-05-09\n",
      "2020-05-10\n",
      "2020-05-11\n"
     ]
    }
   ],
   "source": [
    "# Write a Python program to get the dates of yesterday, today and tomorrow.\n",
    "\n",
    "import datetime\n",
    "\n",
    "today = datetime.date.today()\n",
    "yesterday = today - datetime.timedelta(days = 1)\n",
    "tomorrow = today + datetime.timedelta(days = 1)\n",
    "print(yesterday)\n",
    "print(today)\n",
    "print(tomorrow)"
   ]
  },
  {
   "cell_type": "code",
   "execution_count": null,
   "metadata": {},
   "outputs": [],
   "source": []
  }
 ],
 "metadata": {
  "kernelspec": {
   "display_name": "Python 3",
   "language": "python",
   "name": "python3"
  },
  "language_info": {
   "codemirror_mode": {
    "name": "ipython",
    "version": 3
   },
   "file_extension": ".py",
   "mimetype": "text/x-python",
   "name": "python",
   "nbconvert_exporter": "python",
   "pygments_lexer": "ipython3",
   "version": "3.7.3"
  }
 },
 "nbformat": 4,
 "nbformat_minor": 2
}
