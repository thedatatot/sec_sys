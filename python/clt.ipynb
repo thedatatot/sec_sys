{
 "cells": [
  {
   "cell_type": "code",
   "execution_count": 7,
   "metadata": {},
   "outputs": [
    {
     "name": "stdout",
     "output_type": "stream",
     "text": [
      "[1.5, 4.333333333333333, 2.75, 4.6, 3.6666666666666665]\n"
     ]
    },
    {
     "data": {
      "text/plain": [
       "<Figure size 432x288 with 0 Axes>"
      ]
     },
     "metadata": {},
     "output_type": "display_data"
    }
   ],
   "source": [
    "import numpy as np\n",
    "import matplotlib.pyplot as plt\n",
    "import matplotlib.animation as animation\n",
    "\n",
    "n = 50\n",
    "\n",
    "avg = []\n",
    "for i in range(2,n):\n",
    "    a = np.random.randint(1,7,i)\n",
    "    avg.append(np.average(a))\n",
    "    \n",
    "print(avg[0:5])\n",
    "\n",
    "def clt(current):\n",
    "    plt.cla()\n",
    "    if current == 50:\n",
    "        a.event_source.stop()\n",
    "        \n",
    "    plt.hist(avg[0:current])\n",
    "    \n",
    "    plt.gca().set_title('Expected value of dice roll')\n",
    "    plt.gca().set_xlabel('Average from dice roll')\n",
    "    plt.gca().set_ylabel('Frequency')\n",
    "    \n",
    "    plt.annotate('Dice roll = {}'.format(current),[3,27])\n",
    "    \n",
    "fig = plt.figure()\n",
    "a = animation.FuncAnimation(fig, clt, interval =5)\n",
    "plt.show()"
   ]
  },
  {
   "cell_type": "code",
   "execution_count": null,
   "metadata": {},
   "outputs": [],
   "source": []
  }
 ],
 "metadata": {
  "kernelspec": {
   "display_name": "Python 3",
   "language": "python",
   "name": "python3"
  },
  "language_info": {
   "codemirror_mode": {
    "name": "ipython",
    "version": 3
   },
   "file_extension": ".py",
   "mimetype": "text/x-python",
   "name": "python",
   "nbconvert_exporter": "python",
   "pygments_lexer": "ipython3",
   "version": "3.7.3"
  }
 },
 "nbformat": 4,
 "nbformat_minor": 2
}
