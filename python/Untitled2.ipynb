{
 "cells": [
  {
   "cell_type": "code",
   "execution_count": 1,
   "metadata": {},
   "outputs": [
    {
     "name": "stdout",
     "output_type": "stream",
     "text": [
      "This is a string\n",
      "C:\\Drive\\Extra\n"
     ]
    }
   ],
   "source": [
    "print('This is a string')\n",
    "print(r'C:\\Drive\\Extra') # r used for raw string"
   ]
  },
  {
   "cell_type": "code",
   "execution_count": 4,
   "metadata": {},
   "outputs": [
    {
     "name": "stdout",
     "output_type": "stream",
     "text": [
      "rahul rahul rahul kumar\n",
      "python\n",
      "python\n"
     ]
    }
   ],
   "source": [
    "print(3 * 'rahul ' + 'kumar')\n",
    "print('py' 'thon')\n",
    "print('py' + 'thon')"
   ]
  },
  {
   "cell_type": "code",
   "execution_count": 17,
   "metadata": {},
   "outputs": [
    {
     "name": "stdout",
     "output_type": "stream",
     "text": [
      "b\n",
      "c\n",
      "g\n",
      "f\n",
      "bcd\n",
      "a\n",
      "abcdefg\n"
     ]
    }
   ],
   "source": [
    "name = 'abcdefg'\n",
    "print(name[1])\n",
    "print(name[2])\n",
    "print(name[-1])\n",
    "print(name[-2])\n",
    "print(name[1:4])\n",
    "print(name[:1])\n",
    "print(name[:])"
   ]
  },
  {
   "cell_type": "code",
   "execution_count": null,
   "metadata": {},
   "outputs": [],
   "source": []
  }
 ],
 "metadata": {
  "kernelspec": {
   "display_name": "Python 3",
   "language": "python",
   "name": "python3"
  },
  "language_info": {
   "codemirror_mode": {
    "name": "ipython",
    "version": 3
   },
   "file_extension": ".py",
   "mimetype": "text/x-python",
   "name": "python",
   "nbconvert_exporter": "python",
   "pygments_lexer": "ipython3",
   "version": "3.7.3"
  }
 },
 "nbformat": 4,
 "nbformat_minor": 2
}
