{
 "cells": [
  {
   "cell_type": "code",
   "execution_count": 3,
   "metadata": {},
   "outputs": [
    {
     "name": "stdout",
     "output_type": "stream",
     "text": [
      "Enter the tempreature in farenheit : 100\n",
      "Tempreature in Celcius :  37.77777777777778\n"
     ]
    }
   ],
   "source": [
    "f = float(input('Enter the tempreature in farenheit : '))\n",
    "print('Tempreature in Celcius : ', (f-32)*(5/9))"
   ]
  },
  {
   "cell_type": "code",
   "execution_count": 4,
   "metadata": {},
   "outputs": [
    {
     "name": "stdout",
     "output_type": "stream",
     "text": [
      "Enter any number : 3\n",
      "Square of the number :  9.0 \n",
      " Cube of the number :  27.0\n"
     ]
    }
   ],
   "source": [
    "num = float(input('Enter any number : '))\n",
    "print('Square of the number : ', pow(num, 2) , '\\n', 'Cube of the number : ', pow(num, 3))"
   ]
  },
  {
   "cell_type": "code",
   "execution_count": 5,
   "metadata": {},
   "outputs": [
    {
     "name": "stdout",
     "output_type": "stream",
     "text": [
      "Enter n : 2\n",
      "Enter m : 2\n",
      "Desired output :  8\n"
     ]
    }
   ],
   "source": [
    "n = int(input('Enter n : '))\n",
    "m = int(input('Enter m : '))\n",
    "print('Desired output : ', pow(n,2) + pow(m,2))"
   ]
  },
  {
   "cell_type": "code",
   "execution_count": 7,
   "metadata": {},
   "outputs": [
    {
     "name": "stdout",
     "output_type": "stream",
     "text": [
      "Enter the n for sum : 10\n",
      "The sum till n :  55.0\n"
     ]
    }
   ],
   "source": [
    "n = int(input('Enter the n for sum : '))\n",
    "print('The sum till n : ', (n*n + n)/2)"
   ]
  },
  {
   "cell_type": "code",
   "execution_count": 10,
   "metadata": {},
   "outputs": [
    {
     "name": "stdout",
     "output_type": "stream",
     "text": [
      "a2\n",
      "b3\n",
      "3 2\n"
     ]
    }
   ],
   "source": [
    "a = int(input(\"a\"))\n",
    "b = int(input('b'))\n",
    "a,b = b, a\n",
    "print(a,b)"
   ]
  },
  {
   "cell_type": "code",
   "execution_count": 13,
   "metadata": {},
   "outputs": [
    {
     "name": "stdout",
     "output_type": "stream",
     "text": [
      "82\n"
     ]
    }
   ],
   "source": [
    "print(ord('R'))"
   ]
  },
  {
   "cell_type": "code",
   "execution_count": null,
   "metadata": {},
   "outputs": [],
   "source": []
  }
 ],
 "metadata": {
  "kernelspec": {
   "display_name": "Python 3",
   "language": "python",
   "name": "python3"
  },
  "language_info": {
   "codemirror_mode": {
    "name": "ipython",
    "version": 3
   },
   "file_extension": ".py",
   "mimetype": "text/x-python",
   "name": "python",
   "nbconvert_exporter": "python",
   "pygments_lexer": "ipython3",
   "version": "3.7.3"
  }
 },
 "nbformat": 4,
 "nbformat_minor": 2
}
