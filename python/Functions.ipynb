{
 "cells": [
  {
   "cell_type": "code",
   "execution_count": 3,
   "metadata": {},
   "outputs": [
    {
     "data": {
      "text/plain": [
       "30"
      ]
     },
     "execution_count": 3,
     "metadata": {},
     "output_type": "execute_result"
    }
   ],
   "source": [
    "def add():\n",
    "    a = 10\n",
    "    b = 20\n",
    "    c = a + b\n",
    "#     print(c)\n",
    "    return(c)\n",
    "\n",
    "add()"
   ]
  },
  {
   "cell_type": "code",
   "execution_count": 4,
   "metadata": {},
   "outputs": [
    {
     "data": {
      "text/plain": [
       "212"
      ]
     },
     "execution_count": 4,
     "metadata": {},
     "output_type": "execute_result"
    }
   ],
   "source": [
    "def add(a,b):\n",
    "    c = a + b\n",
    "    return c\n",
    "\n",
    "add(10,202)"
   ]
  },
  {
   "cell_type": "code",
   "execution_count": 5,
   "metadata": {},
   "outputs": [
    {
     "name": "stdout",
     "output_type": "stream",
     "text": [
      "50\n"
     ]
    }
   ],
   "source": [
    "def add(a,b):\n",
    "    return a+b\n",
    "\n",
    "print(add(20,30))"
   ]
  },
  {
   "cell_type": "code",
   "execution_count": 7,
   "metadata": {},
   "outputs": [
    {
     "name": "stdout",
     "output_type": "stream",
     "text": [
      "23\n"
     ]
    }
   ],
   "source": [
    "def add(a,b,c,d):\n",
    "    return (a + b+c+d)\n",
    "print(add(1, c = 5 ,d = 8 ,b =9))"
   ]
  },
  {
   "cell_type": "code",
   "execution_count": 8,
   "metadata": {},
   "outputs": [
    {
     "data": {
      "text/plain": [
       "3"
      ]
     },
     "execution_count": 8,
     "metadata": {},
     "output_type": "execute_result"
    }
   ],
   "source": [
    "def add(a,b,c=0,d=0):\n",
    "    return a + b+ c+d\n",
    "add(1,2)"
   ]
  },
  {
   "cell_type": "code",
   "execution_count": 12,
   "metadata": {},
   "outputs": [
    {
     "name": "stdout",
     "output_type": "stream",
     "text": [
      "value =  1\ttype =  <class 'int'>\n",
      "value =  5\ttype =  <class 'int'>\n",
      "value =  rahul\ttype =  <class 'str'>\n",
      "value =  [1, 2, 3]\ttype =  <class 'list'>\n",
      "value =  (12, 3, 4)\ttype =  <class 'tuple'>\n",
      "value =  3\ttype =  <class 'int'>\n",
      "value =  4\ttype =  <class 'int'>\n",
      "value =  5\ttype =  <class 'int'>\n",
      "value =  6\ttype =  <class 'int'>\n",
      "<class 'tuple'>\n"
     ]
    }
   ],
   "source": [
    "def check_type(*args):\n",
    "    for i in args:\n",
    "        print('value = ', i, end = '\\t')\n",
    "        print('type = ', type(i))\n",
    "    print(type(args))\n",
    "check_type(1,2+3,'rahul',[1,2,3],(12,3,4),3,4,5,6)"
   ]
  },
  {
   "cell_type": "code",
   "execution_count": 15,
   "metadata": {},
   "outputs": [
    {
     "name": "stdout",
     "output_type": "stream",
     "text": [
      "Key =  i\tValue =  10\n",
      "Type =  <class 'int'>\n",
      "Key =  f\tValue =  11.2\n",
      "Type =  <class 'float'>\n",
      "Key =  s\tValue =  Rahul\n",
      "Type =  <class 'str'>\n",
      "<class 'dict'>\n"
     ]
    }
   ],
   "source": [
    "def key_val(**args):\n",
    "    for i in args:\n",
    "        print('Key = ', i, end = '\\t')\n",
    "        print('Value = ', args[i])\n",
    "        print('Type = ', type(args[i]))\n",
    "    print(type(args))\n",
    "key_val(i = 10, f = 11.2, s = 'Rahul')"
   ]
  },
  {
   "cell_type": "code",
   "execution_count": 30,
   "metadata": {},
   "outputs": [
    {
     "name": "stdout",
     "output_type": "stream",
     "text": [
      "Key =  s\tvalue =  Rahul\n",
      "Type =  <class 'str'>\n",
      "Key =  f\tvalue =  1.2\n",
      "Type =  <class 'float'>\n",
      "<class 'dict'>\n"
     ]
    }
   ],
   "source": [
    "def mix_type(a = 1, b= 2,**args):\n",
    "    for i in args:\n",
    "        print('Key = ', i, end = '\\t')\n",
    "        print(\"value = \", args[i])\n",
    "        print('Type = ', type(args[i]))\n",
    "    print(type(args))\n",
    "mix_type(a = 1, b = 2, s = \"Rahul\", f = 1.2)"
   ]
  },
  {
   "cell_type": "code",
   "execution_count": 39,
   "metadata": {},
   "outputs": [
    {
     "data": {
      "text/plain": [
       "(<function __main__.email(e, **args)>, ('a', 33, ('Rahul', 9)))"
      ]
     },
     "execution_count": 39,
     "metadata": {},
     "output_type": "execute_result"
    }
   ],
   "source": [
    "name = 'Rahul'\n",
    "phone = 9\n",
    "city = 'a'\n",
    "pin = 33\n",
    "e = \"fddf\"\n",
    "\n",
    "def contact(name, phone):\n",
    "    return(name, phone)\n",
    "\n",
    "def address(city, pin, **args):\n",
    "    return(city, pin,contact(name,phone))\n",
    "\n",
    "def email(e, **args):\n",
    "    return(e,address(city, pin))\n",
    "\n",
    "email(email)"
   ]
  },
  {
   "cell_type": "code",
   "execution_count": 40,
   "metadata": {},
   "outputs": [
    {
     "name": "stdout",
     "output_type": "stream",
     "text": [
      "a@a.com\n",
      "a\n",
      "b\n",
      "3434\n",
      "c\n",
      "ABC\n",
      "12345\n"
     ]
    }
   ],
   "source": [
    "def contact(name, phone):\n",
    "    print(name)\n",
    "    print(phone)\n",
    "\n",
    "def address(street, city, pin, state, **kwargs):\n",
    "    print(street)\n",
    "    print(city)\n",
    "    print(pin)\n",
    "    print(state)\n",
    "    contact(kwargs['name'], kwargs['phone'])\n",
    "    \n",
    "def email(email, **kwargs):\n",
    "    print(email)\n",
    "    address(kwargs['street'], kwargs['city'], kwargs['pin'], kwargs['state'], name = 'ABC', phone = 12345)\n",
    "    \n",
    "email('a@a.com', street = 'a', city = 'b', pin = 3434, state = 'c', name = 'ABC', phone = 12345)"
   ]
  },
  {
   "cell_type": "markdown",
   "metadata": {},
   "source": [
    "### Function Aliasing"
   ]
  },
  {
   "cell_type": "code",
   "execution_count": 41,
   "metadata": {},
   "outputs": [
    {
     "name": "stdout",
     "output_type": "stream",
     "text": [
      "This is f1 function\n",
      "None\n",
      "<function f1 at 0x0000019123548378>\n",
      "This is f1 function\n"
     ]
    }
   ],
   "source": [
    "def f1():\n",
    "    print('This is f1 function')\n",
    "\n",
    "def f2():\n",
    "    print('This is f2 function')\n",
    "\n",
    "    \n",
    "a = f1()\n",
    "b = f1\n",
    "\n",
    "print(a)\n",
    "print(b)\n",
    "b()"
   ]
  },
  {
   "cell_type": "code",
   "execution_count": 5,
   "metadata": {},
   "outputs": [
    {
     "name": "stdout",
     "output_type": "stream",
     "text": [
      "This is f1()\n",
      "This is f2()\n"
     ]
    }
   ],
   "source": [
    "# LEGB Scope resolution rule Local, Extended, Global, Builtin\n",
    "\n",
    "def f1():\n",
    "    print('This is f1()')\n",
    "    def f2():\n",
    "        print('This is f2()')\n",
    "    f2()\n",
    "f1()\n"
   ]
  },
  {
   "cell_type": "markdown",
   "metadata": {},
   "source": [
    "### Closure and Decorator"
   ]
  },
  {
   "cell_type": "code",
   "execution_count": 8,
   "metadata": {},
   "outputs": [
    {
     "name": "stdout",
     "output_type": "stream",
     "text": [
      "This is f1()\n",
      "This is f2()\n"
     ]
    }
   ],
   "source": [
    "def f1():\n",
    "    print('This is f1()')\n",
    "    def f2():\n",
    "        print('This is f2()')\n",
    "    return f2\n",
    "    \n",
    "a = f1()\n",
    "a()"
   ]
  },
  {
   "cell_type": "code",
   "execution_count": 9,
   "metadata": {},
   "outputs": [
    {
     "data": {
      "text/plain": [
       "16"
      ]
     },
     "execution_count": 9,
     "metadata": {},
     "output_type": "execute_result"
    }
   ],
   "source": [
    "# Anonymous/Lambda Functions (Function with no name)\n",
    "# used for instant \n",
    "sq = lambda num : num * num\n",
    "print(sq(4))\n"
   ]
  },
  {
   "cell_type": "code",
   "execution_count": 10,
   "metadata": {},
   "outputs": [
    {
     "name": "stdout",
     "output_type": "stream",
     "text": [
      "[10, 12, 14, 16, 18]\n"
     ]
    }
   ],
   "source": [
    "seq = [10,11,12,13,14,15,16,17,18,19]\n",
    "out_lst = []\n",
    "\n",
    "def even_seq(is_even, seq):\n",
    "    for num in seq:\n",
    "        if is_even(num) ==  True:\n",
    "            out_lst.append(num)\n",
    "        else:\n",
    "            continue\n",
    "    return out_lst\n",
    "def is_even(num):\n",
    "    if num%2 == 0:\n",
    "        return True\n",
    "    else:\n",
    "        return False\n",
    "    \n",
    "print(even_seq(is_even, seq))"
   ]
  },
  {
   "cell_type": "code",
   "execution_count": 21,
   "metadata": {},
   "outputs": [
    {
     "name": "stdout",
     "output_type": "stream",
     "text": [
      "[10, 12, 14, 16, 18]\n"
     ]
    }
   ],
   "source": [
    "# filter function is a generator\n",
    "\n",
    "seq = [10,11,12,13,14,15,16,17,18,19]\n",
    "print(list(filter(lambda num : num % 2 == 0, seq)))"
   ]
  },
  {
   "cell_type": "code",
   "execution_count": 22,
   "metadata": {
    "scrolled": true
   },
   "outputs": [
    {
     "name": "stdout",
     "output_type": "stream",
     "text": [
      "[1000, 1331, 1728, 2197, 2744, 3375, 4096, 4913, 5832, 6859]\n",
      "[15, 15, 15, 15, 15]\n"
     ]
    }
   ],
   "source": [
    "print(list(map(lambda num : num ** 3, seq)))\n",
    "# seq = [1,2.3,4,5,9]\n",
    "seq1 = [5,4,3,2,1]\n",
    "print(list(map(lambda num, num1 : num + num1, seq, seq1)))"
   ]
  },
  {
   "cell_type": "code",
   "execution_count": 24,
   "metadata": {},
   "outputs": [
    {
     "data": {
      "text/plain": [
       "145"
      ]
     },
     "execution_count": 24,
     "metadata": {},
     "output_type": "execute_result"
    }
   ],
   "source": [
    "from functools import reduce\n",
    "reduce(lambda x, y : x + y, seq)"
   ]
  },
  {
   "cell_type": "code",
   "execution_count": 26,
   "metadata": {},
   "outputs": [
    {
     "name": "stdout",
     "output_type": "stream",
     "text": [
      "Enter your email : r\n",
      "Enter your name : r\n",
      "r\n",
      "r\n"
     ]
    }
   ],
   "source": [
    "def decorator_function(func):\n",
    "    def new_functionalities():\n",
    "        email=input('Enter your email : ')\n",
    "        func()\n",
    "        print(email)\n",
    "    return new_functionalities\n",
    "\n",
    "\n",
    "@decorator_function\n",
    "def existing_function():\n",
    "    name = input('Enter your name : ')\n",
    "    print(name)\n",
    "    \n",
    "existing_function()\n"
   ]
  },
  {
   "cell_type": "code",
   "execution_count": 30,
   "metadata": {},
   "outputs": [
    {
     "name": "stdout",
     "output_type": "stream",
     "text": [
      "<\n",
      "This is a function\n",
      "/>\n"
     ]
    }
   ],
   "source": [
    "def decorator_f3(func):\n",
    "    def new_func3():\n",
    "        print('<')\n",
    "        func()\n",
    "        print('/>')\n",
    "    return new_func3    \n",
    "    \n",
    "@decorator_f3\n",
    "def f3():\n",
    "    print('This is a function')\n",
    "\n",
    "f3()"
   ]
  },
  {
   "cell_type": "code",
   "execution_count": 8,
   "metadata": {},
   "outputs": [
    {
     "name": "stdout",
     "output_type": "stream",
     "text": [
      "Enter the name of the employeeRahul\n",
      "Enter the salary of the employee8494848\n",
      "The pf amount is 8474848\n"
     ]
    }
   ],
   "source": [
    "def emp_data(f):\n",
    "    def inner_emp():\n",
    "        ename, esal = f()\n",
    "        if (esal) > 20000:\n",
    "            pf = (esal) - 20000\n",
    "            print ('The pf amount is', pf)\n",
    "        else:\n",
    "            print(ename, esal) \n",
    "    return inner_emp\n",
    "    \n",
    "@emp_data\n",
    "def emp_info():\n",
    "    ename = input('Enter the name of the employee')\n",
    "    esal = int( input('Enter the salary of the employee'))\n",
    "    return ename, esal\n",
    "\n",
    "emp_info()\n"
   ]
  },
  {
   "cell_type": "markdown",
   "metadata": {},
   "source": [
    "### Decorator Chaining"
   ]
  },
  {
   "cell_type": "code",
   "execution_count": 11,
   "metadata": {},
   "outputs": [
    {
     "name": "stdout",
     "output_type": "stream",
     "text": [
      "Enter employee nameRahul\n",
      "Employee base salary2999999\n",
      "Kuch bhi\n",
      "Enter pf amount29999\n",
      "Somethind\n",
      "HRA amount34434\n",
      "Total Salary\n"
     ]
    }
   ],
   "source": [
    "def d_emp_tsal(fun):\n",
    "    def wrapper_tsal(en,eb):\n",
    "        e_b_p = fun(en,eb)\n",
    "        e_hra = int(input ('HRA amount'))\n",
    "        print('Total Salary')\n",
    "    return wrapper_tsal\n",
    "\n",
    "def d_emp_det(f):\n",
    "    def inner_emp_info(en,eb):\n",
    "        e_name, e_Bsal = f(en, eb)\n",
    "        e_pf = int(input('Enter pf amount'))\n",
    "        print('Somethind')\n",
    "        return (e_Bsal + e_pf)\n",
    "    return inner_emp_info\n",
    "\n",
    "@d_emp_tsal\n",
    "@d_emp_det\n",
    "def employee_info(ename, ebase):\n",
    "    print('Kuch bhi')\n",
    "    return ename, ebase\n",
    "\n",
    "ename = input('Enter employee name')\n",
    "ebase = int(input('Employee base salary'))\n",
    "employee_info(ename, ebase)"
   ]
  },
  {
   "cell_type": "markdown",
   "metadata": {},
   "source": [
    "### Generators"
   ]
  },
  {
   "cell_type": "code",
   "execution_count": 5,
   "metadata": {},
   "outputs": [
    {
     "name": "stdout",
     "output_type": "stream",
     "text": [
      "<generator object gen at 0x0000018CC05EF408>\n",
      "Rahul\n",
      "10\n",
      "[1, 2, 3]\n"
     ]
    }
   ],
   "source": [
    "# Generator requires yeild statement\n",
    "# yeild is similar to return but not the same\n",
    "\n",
    "def gen():\n",
    "    yield 'Rahul'\n",
    "    yield 10\n",
    "    yield [1,2,3]\n",
    "\n",
    "print(gen())\n",
    "\n",
    "for i in gen():\n",
    "    print(i)"
   ]
  },
  {
   "cell_type": "code",
   "execution_count": null,
   "metadata": {},
   "outputs": [],
   "source": []
  }
 ],
 "metadata": {
  "kernelspec": {
   "display_name": "Python 3",
   "language": "python",
   "name": "python3"
  },
  "language_info": {
   "codemirror_mode": {
    "name": "ipython",
    "version": 3
   },
   "file_extension": ".py",
   "mimetype": "text/x-python",
   "name": "python",
   "nbconvert_exporter": "python",
   "pygments_lexer": "ipython3",
   "version": "3.7.3"
  }
 },
 "nbformat": 4,
 "nbformat_minor": 2
}
