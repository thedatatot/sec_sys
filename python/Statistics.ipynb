{
 "cells": [
  {
   "cell_type": "code",
   "execution_count": 2,
   "metadata": {},
   "outputs": [
    {
     "name": "stdout",
     "output_type": "stream",
     "text": [
      "Enter the number of elements to be inserted: 5\n",
      "Enter element: 1\n",
      "Enter element: 2\n",
      "Enter element: 3\n",
      "Enter element: 4\n",
      "Enter element: 5\n",
      "Average of elements in the list 3.0\n"
     ]
    }
   ],
   "source": [
    "n=int(input(\"Enter the number of elements to be inserted: \"))\n",
    "a=[]\n",
    "for i in range(0,n):\n",
    "    elem=int(input(\"Enter element: \"))\n",
    "    a.append(elem)\n",
    "avg=sum(a)/n\n",
    "print(\"Average of elements in the list\",round(avg,2))"
   ]
  },
  {
   "cell_type": "markdown",
   "metadata": {},
   "source": [
    "\n"
   ]
  },
  {
   "cell_type": "code",
   "execution_count": 5,
   "metadata": {},
   "outputs": [
    {
     "name": "stdout",
     "output_type": "stream",
     "text": [
      " Enter the number of elements to be inserted : 3\n",
      "Enter the element : 2\n",
      "Enter the element : 4\n",
      "Enter the element : 6\n",
      "Average of the elements is :  4.0\n"
     ]
    }
   ],
   "source": [
    "n = int (input(' Enter the number of elements to be inserted : '))\n",
    "a = []\n",
    "for i in range(0,n):\n",
    "    element = int(input('Enter the element : '))\n",
    "    a.append(element)\n",
    "avg = sum(a)/n\n",
    "print('Average of the elements is : ', avg)"
   ]
  },
  {
   "cell_type": "code",
   "execution_count": null,
   "metadata": {},
   "outputs": [],
   "source": []
  }
 ],
 "metadata": {
  "kernelspec": {
   "display_name": "Python 3",
   "language": "python",
   "name": "python3"
  },
  "language_info": {
   "codemirror_mode": {
    "name": "ipython",
    "version": 3
   },
   "file_extension": ".py",
   "mimetype": "text/x-python",
   "name": "python",
   "nbconvert_exporter": "python",
   "pygments_lexer": "ipython3",
   "version": "3.7.3"
  }
 },
 "nbformat": 4,
 "nbformat_minor": 2
}
