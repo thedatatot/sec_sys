{
 "cells": [
  {
   "cell_type": "code",
   "execution_count": 4,
   "metadata": {},
   "outputs": [
    {
     "name": "stdout",
     "output_type": "stream",
     "text": [
      "0\n",
      "5\n"
     ]
    }
   ],
   "source": [
    "# Mode = r -> read, w-> write, a-> append, r+ -> read and write, w+ -> write and read, a+ -> append and read\n",
    "# r -> if file exists then it will be opened in read mode, cursor will be placed in the beginning of the file\n",
    "# if file does not exists then you will fet FileNotFoundError\n",
    "# tell() -> tells at which position our cursor is?\n",
    "# seek(pos) -> tells the character at specific position\n",
    "\n",
    "f = open('file.txt', 'r')\n",
    "print(f.tell())\n",
    "print(f.seek(5))\n",
    "f.close()\n"
   ]
  },
  {
   "cell_type": "code",
   "execution_count": 5,
   "metadata": {},
   "outputs": [
    {
     "name": "stdout",
     "output_type": "stream",
     "text": [
      "0\n"
     ]
    }
   ],
   "source": [
    "# If the file exists and we open in write mode, then all the data will be erased from the file and cursor will be pointed at the starting of the file\n",
    "# If the file doesnot exists then a new file will be created with the file name provided\n",
    "f = open('file2.txt', 'w')\n",
    "print(f.tell())\n",
    "f.close()"
   ]
  },
  {
   "cell_type": "code",
   "execution_count": 7,
   "metadata": {},
   "outputs": [
    {
     "name": "stdout",
     "output_type": "stream",
     "text": [
      "3\n"
     ]
    }
   ],
   "source": [
    "f = open('file1.txt', 'w')\n",
    "print(f.seek(3))\n",
    "f.close()"
   ]
  },
  {
   "cell_type": "code",
   "execution_count": 8,
   "metadata": {},
   "outputs": [],
   "source": [
    "f = open('file1.txt', 'a')\n",
    "f.close()"
   ]
  },
  {
   "cell_type": "code",
   "execution_count": 9,
   "metadata": {},
   "outputs": [
    {
     "name": "stdout",
     "output_type": "stream",
     "text": [
      "0\n",
      "[I 22:25:32.262 NotebookApp] JupyterLab extension loaded from C:\\Users\\rahul\\Anaconda3\\lib\\site-packages\\jupyterlab\n",
      "[I 22:25:32.263 NotebookApp] JupyterLab application directory is C:\\Users\\rahul\\Anaconda3\\share\\jupyter\\lab\n",
      "[I 22:25:32.315 NotebookApp] Serving notebooks from local directory: D:\\sec_sys\n",
      "[I 22:25:32.316 NotebookApp] The Jupyter Notebook is running at:\n",
      "[I 22:25:32.318 NotebookApp] http://localhost:8888/?token=400868a0204d821427b3bec4fb14e8cfd0e6d9c268897377\n",
      "[I 22:25:32.318 NotebookApp]  or http://127.0.0.1:8888/?token=400868a0204d821427b3bec4fb14e8cfd0e6d9c268897377\n",
      "[I 22:25:32.318 NotebookApp] Use Control-C to stop this server and shut down all kernels (twice to skip confirmation).\n",
      "[C 22:25:32.481 NotebookApp]\n",
      "\n",
      "    To access the notebook, open this file in a browser:\n",
      "        file:///C:/Users/rahul/AppData/Roaming/jupyter/runtime/nbserver-8004-open.html\n",
      "    Or copy and paste one of these URLs:\n",
      "        http://localhost:8888/?token=400868a0204d821427b3bec4fb14e8cfd0e6d9c268897377\n",
      "     or http://127.0.0.1:8888/?token=400868a0204d821427b3bec4fb14e8cfd0e6d9c268897377\n",
      "[I 22:51:00.830 NotebookApp] Creating new notebook in /python\n",
      "[I 22:51:05.040 NotebookApp] Kernel started: e968e74f-a06f-45d9-a8f3-cb8a0a9ce303\n",
      "[I 22:53:05.054 NotebookApp] Saving file at /python/File Handling.ipynb\n",
      "[I 22:53:05.859 NotebookApp] Creating new file in /python\n",
      "[I 22:53:26.097 NotebookApp] Saving file at /python/file.txt\n",
      "[I 22:55:04.688 NotebookApp] Saving file at /python/File Handling.ipynb\n",
      "[I 22:57:04.619 NotebookApp] Saving file at /python/File Handling.ipynb\n",
      "[I 22:59:04.647 NotebookApp] Saving file at /python/File Handling.ipynb\n",
      "[I 23:01:04.653 NotebookApp] Saving file at /python/File Handling.ipynb\n",
      "[I 23:03:04.650 NotebookApp] Saving file at /python/File Handling.ipynb\n",
      "[I 23:05:04.662 NotebookApp] Saving file at /python/File Handling.ipynb\n",
      "[I 23:07:04.649 NotebookApp] Saving file at /python/File Handling.ipynb\n",
      "[I 23:09:04.653 NotebookApp] Saving file at /python/File Handling.ipynb\n",
      "[I 23:11:04.659 NotebookApp] Saving file at /python/File Handling.ipynb\n",
      "\n"
     ]
    }
   ],
   "source": [
    "# Method to read and write into a file\n",
    "\n",
    "# read()\n",
    "# read(pos)\n",
    "# readline()\n",
    "# readlines()\n",
    "\n",
    "f = open('file1.txt', 'r')\n",
    "print(f.tell())\n",
    "print(f.read())\n",
    "f.close()\n",
    "\n"
   ]
  },
  {
   "cell_type": "code",
   "execution_count": null,
   "metadata": {},
   "outputs": [],
   "source": [
    "# Binary Files -> rb, wb, ab, rb+, wb+, ab+\n",
    "\n",
    "\n",
    "# char_count\n",
    "# word_count\n",
    "# line_count\n",
    "\n",
    "\n"
   ]
  }
 ],
 "metadata": {
  "kernelspec": {
   "display_name": "Python 3",
   "language": "python",
   "name": "python3"
  },
  "language_info": {
   "codemirror_mode": {
    "name": "ipython",
    "version": 3
   },
   "file_extension": ".py",
   "mimetype": "text/x-python",
   "name": "python",
   "nbconvert_exporter": "python",
   "pygments_lexer": "ipython3",
   "version": "3.7.3"
  }
 },
 "nbformat": 4,
 "nbformat_minor": 2
}
