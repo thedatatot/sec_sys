{
 "cells": [
  {
   "cell_type": "code",
   "execution_count": 5,
   "metadata": {},
   "outputs": [
    {
     "name": "stdout",
     "output_type": "stream",
     "text": [
      "Sum of the array is  8.5\n"
     ]
    }
   ],
   "source": [
    "def mean(arr,n): \n",
    "    return(sum(arr)/n) \n",
    "  \n",
    "arr=[] \n",
    "arr = [12, 3, 4, 15] \n",
    "  \n",
    "n = len(arr) \n",
    "  \n",
    "ans = mean(arr,n) \n",
    "   \n",
    "print ('Sum of the array is ',ans) "
   ]
  },
  {
   "cell_type": "code",
   "execution_count": 6,
   "metadata": {},
   "outputs": [
    {
     "name": "stdout",
     "output_type": "stream",
     "text": [
      "Sum of the array is  8.5\n"
     ]
    }
   ],
   "source": [
    "def mean(arr,n): \n",
    "    return(sum(arr)/len(arr)) \n",
    "  \n",
    "arr=[] \n",
    "arr = [12, 3, 4, 15] \n",
    "ans = mean(arr,n) \n",
    "   \n",
    "print ('Sum of the array is ',ans) \n"
   ]
  }
 ],
 "metadata": {
  "kernelspec": {
   "display_name": "Python 3",
   "language": "python",
   "name": "python3"
  },
  "language_info": {
   "codemirror_mode": {
    "name": "ipython",
    "version": 3
   },
   "file_extension": ".py",
   "mimetype": "text/x-python",
   "name": "python",
   "nbconvert_exporter": "python",
   "pygments_lexer": "ipython3",
   "version": "3.7.3"
  }
 },
 "nbformat": 4,
 "nbformat_minor": 2
}
