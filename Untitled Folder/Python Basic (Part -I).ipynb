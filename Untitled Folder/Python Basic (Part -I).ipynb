{
 "cells": [
  {
   "cell_type": "code",
   "execution_count": 6,
   "metadata": {},
   "outputs": [
    {
     "name": "stdout",
     "output_type": "stream",
     "text": [
      "Twinkle, twinkle, little star, \n",
      "\t How I wonder what you are! \n",
      "\t\tUp above the world so high, \n",
      "\t\tLike a diamond in the sky. \n",
      "Twinkle, twinkle, little star, \n",
      "\tHow I wonder what you are\n"
     ]
    }
   ],
   "source": [
    "print('Twinkle, twinkle, little star, \\n\\t How I wonder what you are! \\n\\t\\tUp above the world so high, \\n\\t\\tLike a diamond in the sky. \\nTwinkle, twinkle, little star, \\n\\tHow I wonder what you are')"
   ]
  },
  {
   "cell_type": "code",
   "execution_count": 22,
   "metadata": {},
   "outputs": [
    {
     "name": "stdout",
     "output_type": "stream",
     "text": [
      "3.7.3 (default, Apr 24 2019, 15:29:51) [MSC v.1915 64 bit (AMD64)]\n"
     ]
    }
   ],
   "source": [
    "# import sys\n",
    "print (sys.version)"
   ]
  },
  {
   "cell_type": "code",
   "execution_count": 27,
   "metadata": {},
   "outputs": [
    {
     "name": "stdout",
     "output_type": "stream",
     "text": [
      "Current date and time : \n",
      " 2020-04-22 12:59:07.904076\n"
     ]
    }
   ],
   "source": [
    "import datetime\n",
    "print('Current date and time : \\n',datetime.datetime.now())"
   ]
  },
  {
   "cell_type": "code",
   "execution_count": 28,
   "metadata": {},
   "outputs": [
    {
     "name": "stdout",
     "output_type": "stream",
     "text": [
      "Enter the radius of the circle : 10\n",
      "314.0\n"
     ]
    }
   ],
   "source": [
    "rad = int(input('Enter the radius of the circle : '))\n",
    "print(3.14*rad*rad)"
   ]
  },
  {
   "cell_type": "code",
   "execution_count": 30,
   "metadata": {},
   "outputs": [
    {
     "name": "stdout",
     "output_type": "stream",
     "text": [
      "Enter your first name : Rahul\n",
      "Enter your last name : Kumar\n",
      "Kumar Rahul\n"
     ]
    }
   ],
   "source": [
    "first = input('Enter your first name : ')\n",
    "last = input('Enter your last name : ')\n",
    "print(last,  first)"
   ]
  },
  {
   "cell_type": "code",
   "execution_count": 31,
   "metadata": {},
   "outputs": [
    {
     "name": "stdout",
     "output_type": "stream",
     "text": [
      "Input some comma saperated numbers1,2,3,4,5\n",
      "TUPLE :  ('1', '2', '3', '4', '5')\n",
      "LIST :  ['1', '2', '3', '4', '5']\n"
     ]
    }
   ],
   "source": [
    "values = input('Input some comma saperated numbers')\n",
    "list = values.split(',')\n",
    "tuple = tuple(list)\n",
    "print('TUPLE : ', tuple)\n",
    "print('LIST : ', list)"
   ]
  },
  {
   "cell_type": "code",
   "execution_count": 35,
   "metadata": {},
   "outputs": [
    {
     "name": "stdout",
     "output_type": "stream",
     "text": [
      "Enter the filename : rahul.ere\n",
      "'ere'\n"
     ]
    }
   ],
   "source": [
    "filename = input('Enter the filename : ')\n",
    "file_ext = filename.split('.')\n",
    "print(repr(file_ext[1]))"
   ]
  },
  {
   "cell_type": "code",
   "execution_count": 36,
   "metadata": {},
   "outputs": [
    {
     "name": "stdout",
     "output_type": "stream",
     "text": [
      "Red Black\n"
     ]
    }
   ],
   "source": [
    "color_list = [\"Red\",\"Green\",\"White\" ,\"Black\"]\n",
    "print(color_list[0], color_list[-1])"
   ]
  },
  {
   "cell_type": "code",
   "execution_count": 41,
   "metadata": {},
   "outputs": [
    {
     "name": "stdout",
     "output_type": "stream",
     "text": [
      "The examination will start from : 11 / 12 / 2014\n"
     ]
    }
   ],
   "source": [
    "exam_st_date = (11,12,2014)\n",
    "print(\"The examination will start from : %i / %i / %i\" %exam_st_date)"
   ]
  },
  {
   "cell_type": "code",
   "execution_count": 49,
   "metadata": {},
   "outputs": [
    {
     "name": "stdout",
     "output_type": "stream",
     "text": [
      "Enter any number5\n",
      "615\n"
     ]
    }
   ],
   "source": [
    "# a = int(input('Enter any number'))\n",
    "# n1 = int('%s'%a)\n",
    "# n2 = int('%s%s'%(a,a))\n",
    "# n3 = int('%s%s%s'%(a,a,a))\n",
    "# print(n1+n2+n3)\n",
    "\n",
    "a = int(input('Enter any number'))\n",
    "n2 = 10*a + a\n",
    "n3 = 100*a + n2\n",
    "print(a +n2 + n3)"
   ]
  },
  {
   "cell_type": "code",
   "execution_count": null,
   "metadata": {},
   "outputs": [],
   "source": []
  }
 ],
 "metadata": {
  "kernelspec": {
   "display_name": "Python 3",
   "language": "python",
   "name": "python3"
  },
  "language_info": {
   "codemirror_mode": {
    "name": "ipython",
    "version": 3
   },
   "file_extension": ".py",
   "mimetype": "text/x-python",
   "name": "python",
   "nbconvert_exporter": "python",
   "pygments_lexer": "ipython3",
   "version": "3.7.3"
  }
 },
 "nbformat": 4,
 "nbformat_minor": 2
}
